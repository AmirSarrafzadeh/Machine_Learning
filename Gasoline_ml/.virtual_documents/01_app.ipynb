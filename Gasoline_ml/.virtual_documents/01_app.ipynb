








import pandas as pd
import matplotlib.pyplot as plt
import seaborn as sns





df = pd.read_excel("data.xlsx")


# Head of the data
df.head()


# Tail of the data
df.tail()


# Shape of the data
df.shape


# Columns of the data
list(df.columns)


# Information of the data
df.info()


# Description of the data
df.describe()


# NULL value of the data
df.isnull().sum()





# Function to plot a bar chart for fuel consumption
def plot_fuel_consumption_barchart():
    plt.figure(figsize=(10, 6))
    plt.bar(df.index, df['fuel consumption (senario 1)'], color='skyblue')
    plt.title('Fuel Consumption (Scenario 1)')
    plt.xlabel('Index')
    plt.ylabel('Fuel Consumption')
    plt.grid(True, axis='y')
    plt.show()

# Plot the fuel consumption bar chart
plot_fuel_consumption_barchart()


# Function to plot the relationship between cycle number and fuel consumption
def plot_cycle_number_vs_fuel_consumption():
    plt.figure(figsize=(10, 6))
    scatter = plt.scatter(df['cycle number'], df['fuel consumption (senario 1)'], c=df['fuel consumption (senario 1)'], cmap='viridis', marker='o')
    plt.title('Cycle Number vs Fuel Consumption (Scenario 1)')
    plt.xlabel('Cycle Number')
    plt.ylabel('Fuel Consumption')
    plt.colorbar(scatter, label='Fuel Consumption')
    plt.show()

# Plot the cycle number vs fuel consumption scatter plot
plot_cycle_number_vs_fuel_consumption()


# Define bins and labels for the pie chart
bins = [0, 100000, 200000, float('inf')]
labels = ['0 - 100000', '100000 - 200000', '200000 and more']

# Bin the distance data
df['distance_bins'] = pd.cut(df['distance (senario 1)'], bins=bins, labels=labels)

# Calculate the counts for each bin
distance_counts = df['distance_bins'].value_counts().sort_index()

# Function to plot the pie chart for distance bins
def plot_distance_pie_chart():
    plt.figure(figsize=(8, 8))
    plt.pie(distance_counts, labels=distance_counts.index, autopct='%1.1f%%', colors=['skyblue', 'orange', 'green'])
    plt.title('Distance Distribution in 3 Bins')
    plt.show()

# Plot the distance pie chart
plot_distance_pie_chart()


# Function to plot the histogram of the mean slope with each bar in different color
def plot_mean_slope_histogram_colored():
    plt.figure(figsize=(10, 6))
    n, bins, patches = plt.hist(df['mean slope in a day distance (senario1)'], bins=10, edgecolor='black')
    
    # Normalize the bins to interval [0,1]
    bin_norm = (bins - min(bins)) / (max(bins) - min(bins))
    
    # Define a colormap
    cmap = plt.colormaps.get_cmap('viridis')
    
    for bin, patch in zip(bin_norm, patches):
        color = cmap(bin)
        patch.set_facecolor(color)
    
    plt.title('Histogram of Mean Slope in a Day (Distance Scenario 1)')
    plt.xlabel('Mean Slope')
    plt.ylabel('Frequency')
    plt.show()

# Plot the histogram of the mean slope with each bar in different color
plot_mean_slope_histogram_colored()


df = df.drop('distance_bins', axis=1)
# Calculate the correlation matrix
correlation_matrix = df.corr()

# Plot the correlation matrix
plt.figure(figsize=(10, 8))
sns.heatmap(correlation_matrix, annot=True, cmap='coolwarm', fmt='.2f', linewidths=0.5)
plt.title('Correlation Matrix')
plt.show()






