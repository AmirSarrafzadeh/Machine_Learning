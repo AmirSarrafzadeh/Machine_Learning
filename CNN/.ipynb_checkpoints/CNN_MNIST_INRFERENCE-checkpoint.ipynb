{
  "nbformat": 4,
  "nbformat_minor": 0,
  "metadata": {
    "colab": {
      "provenance": [],
      "gpuType": "T4"
    },
    "kernelspec": {
      "name": "python3",
      "display_name": "Python 3"
    },
    "language_info": {
      "name": "python"
    },
    "accelerator": "GPU"
  },
  "cells": [
    {
      "cell_type": "markdown",
      "source": [
        "Mount Google drive"
      ],
      "metadata": {
        "id": "LPBgracOpRcd"
      }
    },
    {
      "cell_type": "code",
      "execution_count": 1,
      "metadata": {
        "colab": {
          "base_uri": "https://localhost:8080/"
        },
        "id": "-1jcyyhjo7MI",
        "outputId": "29386a69-038d-4744-a584-1650faf55d65"
      },
      "outputs": [
        {
          "output_type": "stream",
          "name": "stdout",
          "text": [
            "Mounted at /content/drive\n"
          ]
        }
      ],
      "source": [
        "from google.colab import drive\n",
        "drive.mount('/content/drive')"
      ]
    },
    {
      "cell_type": "code",
      "source": [
        "import torch\n",
        "import torch.nn.functional as F\n",
        "import torch.nn as nn\n",
        "import torchvision.transforms as transforms\n",
        "from PIL import Image\n",
        "\n",
        "print('Using PyTorch version:', torch.__version__)\n",
        "if torch.cuda.is_available():\n",
        "    print('Using GPU, device name:', torch.cuda.get_device_name(0))\n",
        "    device = torch.device('cuda')\n",
        "else:\n",
        "    print('No GPU found, using CPU instead.')\n",
        "    device = torch.device('cpu')\n",
        "\n",
        "\n",
        "\n"
      ],
      "metadata": {
        "colab": {
          "base_uri": "https://localhost:8080/"
        },
        "id": "fgaNdxW1rJjz",
        "outputId": "3bd2d758-efe2-4291-be5e-aa07865e8b8d"
      },
      "execution_count": 2,
      "outputs": [
        {
          "output_type": "stream",
          "name": "stdout",
          "text": [
            "Using PyTorch version: 2.2.1+cu121\n",
            "No GPU found, using CPU instead.\n"
          ]
        }
      ]
    },
    {
      "cell_type": "code",
      "source": [
        "class CNN(nn.Module):\n",
        "    def __init__(self):\n",
        "        super(CNN, self).__init__()\n",
        "        self.conv1 = nn.Conv2d(1, 16, 3, 1)\n",
        "        self.conv2 = nn.Conv2d(16, 32, 3, 1)\n",
        "        self.dropout1 = nn.Dropout(0.25)\n",
        "        self.dropout2 = nn.Dropout(0.5)\n",
        "        # 28*28 - 26*26*16 - 24*24*32 - 12*12*32\n",
        "        self.fc1 = nn.Linear(4608, 128)\n",
        "        self.fc2 = nn.Linear(128, 10)\n",
        "\n",
        "    def forward(self, x):\n",
        "        x = self.conv1(x)\n",
        "        x = F.relu(x)\n",
        "        x = self.conv2(x)\n",
        "        x = F.relu(x)\n",
        "        x = F.max_pool2d(x, 2)\n",
        "        x = self.dropout1(x)\n",
        "        x = torch.flatten(x,1)\n",
        "        x = self.fc1(x)\n",
        "        x = F.relu(x)\n",
        "        x = self.dropout2(x)\n",
        "        x = self.fc2(x)\n",
        "        output = F.softmax(x, dim=1)\n",
        "        return output\n"
      ],
      "metadata": {
        "id": "dyybv6mIr4ZN"
      },
      "execution_count": 3,
      "outputs": []
    },
    {
      "cell_type": "code",
      "source": [
        "PATH = '/content/drive/MyDrive/Colab Notebooks/my_model.pth'\n",
        "\n",
        "# Load the saved model\n",
        "model = CNN()\n",
        "model = torch.load(PATH,map_location=torch.device('cpu'))\n",
        "model.eval()  # Set the model to evaluation mode"
      ],
      "metadata": {
        "colab": {
          "base_uri": "https://localhost:8080/"
        },
        "id": "8PnPCkDWxUr0",
        "outputId": "31fcd5a2-bd1e-4357-d569-29450c33294b"
      },
      "execution_count": 5,
      "outputs": [
        {
          "output_type": "execute_result",
          "data": {
            "text/plain": [
              "CNN(\n",
              "  (conv1): Conv2d(1, 16, kernel_size=(3, 3), stride=(1, 1))\n",
              "  (conv2): Conv2d(16, 32, kernel_size=(3, 3), stride=(1, 1))\n",
              "  (dropout1): Dropout(p=0.25, inplace=False)\n",
              "  (dropout2): Dropout(p=0.5, inplace=False)\n",
              "  (fc1): Linear(in_features=4608, out_features=128, bias=True)\n",
              "  (fc2): Linear(in_features=128, out_features=10, bias=True)\n",
              ")"
            ]
          },
          "metadata": {},
          "execution_count": 5
        }
      ]
    },
    {
      "cell_type": "code",
      "source": [
        "import matplotlib.pyplot as plt\n",
        "from PIL import ImageOps\n",
        "\n",
        "# Load and preprocess the image\n",
        "image_path = '3.png'\n",
        "image = Image.open(image_path).convert('L')\n",
        "image = ImageOps.invert(image)\n",
        "\n",
        "\n",
        "# Display the image\n",
        "plt.imshow(image)\n",
        "plt.axis('off')  # Turn off axis\n",
        "plt.show()"
      ],
      "metadata": {
        "colab": {
          "base_uri": "https://localhost:8080/",
          "height": 406
        },
        "id": "hG47RRf8uv-7",
        "outputId": "e3002ff9-57c6-4f14-a277-6484226a763a"
      },
      "execution_count": 6,
      "outputs": [
        {
          "output_type": "display_data",
          "data": {
            "text/plain": [
              "<Figure size 640x480 with 1 Axes>"
            ],
            "image/png": "[encoded data removed]"
          },
          "metadata": {}
        }
      ]
    },
    {
      "cell_type": "code",
      "source": [
        "\n",
        "transform = transforms.Compose([\n",
        "    transforms.Resize((28, 28)),  # Resize the image to match the input size of your model\n",
        "    transforms.ToTensor(),  # Convert the image to a PyTorch tensor\n",
        "    transforms.Normalize(mean=[0.5], std=[0.5])  # Normalize the image\n",
        "])\n",
        "image = transform(image)\n",
        "image = image.unsqueeze(0)  # Add batch dimension"
      ],
      "metadata": {
        "id": "EqGRn8KRxSzc"
      },
      "execution_count": 7,
      "outputs": []
    },
    {
      "cell_type": "code",
      "source": [
        "import matplotlib.pyplot as plt\n",
        "import numpy as np\n",
        "\n",
        "# Convert the PyTorch tensor back to a NumPy array\n",
        "image_np = image.squeeze(0).cpu().permute(1, 2, 0).numpy()  # Convert from CHW to HWC and from tensor to numpy array\n",
        "\n",
        "# # Unnormalize the image\n",
        "# mean = [0.485, 0.456, 0.406]\n",
        "# std = [0.229, 0.224, 0.225]\n",
        "# image_np = std * image_np + mean\n",
        "image_np = np.clip(image_np, 0, 1)\n",
        "\n",
        "# Display the image\n",
        "plt.imshow(image_np)\n",
        "plt.axis('off')  # Turn off axis\n",
        "plt.show()"
      ],
      "metadata": {
        "colab": {
          "base_uri": "https://localhost:8080/",
          "height": 406
        },
        "id": "MbRKyN76xjcC",
        "outputId": "e355b309-aaed-4d37-f5b1-3e5fd96eb580"
      },
      "execution_count": 9,
      "outputs": [
        {
          "output_type": "display_data",
          "data": {
            "text/plain": [
              "<Figure size 640x480 with 1 Axes>"
            ],
            "image/png": "[encoded data removed]"
          },
          "metadata": {}
        }
      ]
    },
    {
      "cell_type": "code",
      "source": [
        "import numpy as np\n",
        "with torch.no_grad():\n",
        "    image = image.to(device)\n",
        "    pred = model(image)\n",
        "\n",
        "output_np = pred.squeeze().cpu().detach().numpy()\n",
        "output_class = np.argmax(output_np)\n",
        "print(f'Predicted: \"{output_np} - calss is: {output_class}')"
      ],
      "metadata": {
        "colab": {
          "base_uri": "https://localhost:8080/"
        },
        "id": "E9SZgNn5shTr",
        "outputId": "b2446a7d-30b6-4237-8cc6-c96edab4706e"
      },
      "execution_count": 10,
      "outputs": [
        {
          "output_type": "stream",
          "name": "stdout",
          "text": [
            "Predicted: \"[1.2864598e-26 6.3725286e-17 4.0087764e-09 1.0000000e+00 3.7342390e-28\n",
            " 1.1445618e-10 5.9318007e-28 8.3881240e-09 1.3115958e-14 1.1506142e-17] - calss is: 3\n"
          ]
        }
      ]
    }
  ]
}